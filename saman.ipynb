{
 "cells": [
  {
   "cell_type": "code",
   "execution_count": 1,
   "metadata": {},
   "outputs": [],
   "source": [
    "import numpy as np"
   ]
  },
  {
   "cell_type": "code",
   "execution_count": 5,
   "metadata": {},
   "outputs": [],
   "source": [
    "UNIQUE_CARDS = np.array([\"A\", \"B\", \"C\", \"D\", \"E\", \"F\", \"G\", \"H\", \"I\", \"J\", \"K\", \"L\", \"M\"])\n",
    "NUMBER_OF_RUNS = 200"
   ]
  },
  {
   "cell_type": "code",
   "execution_count": null,
   "metadata": {},
   "outputs": [],
   "source": [
    "def score(arr):\n",
    "    if arr.ndim != 1:\n",
    "        raise ValueError(\"array must be 1D numpy array\")\n",
    "    score = 0\n",
    "    cur = arr\n",
    "    "
   ]
  },
  {
   "cell_type": "code",
   "execution_count": 13,
   "metadata": {},
   "outputs": [],
   "source": [
    "def calculate_p_by_run(M, N, number_of_runs=NUMBER_OF_RUNS):\n",
    "    if number_of_runs < 1:\n",
    "        raise ValueError(\"Please specify a positive number for number_of_runs\")\n",
    "    repeat = N // len(UNIQUE_CARDS)\n",
    "    cards = np.repeat(UNIQUE_CARDS, repeat)\n",
    "    for r in range(number_of_runs):\n",
    "        cards_in_run = np.random.shuffle(cards)\n",
    "        my_pie = np.random.choice(cards_in_run, size=N//M, replace=False)\n",
    "        my_score = score(my_pie)\n",
    "    return cards"
   ]
  },
  {
   "cell_type": "code",
   "execution_count": 18,
   "metadata": {},
   "outputs": [
    {
     "name": "stdout",
     "output_type": "stream",
     "text": [
      "['A' 'B']\n"
     ]
    }
   ],
   "source": [
    "print(np.random.choice([\"A\",\"B\"], size=2, replace=False))"
   ]
  },
  {
   "cell_type": "code",
   "execution_count": null,
   "metadata": {},
   "outputs": [],
   "source": []
  }
 ],
 "metadata": {
  "kernelspec": {
   "display_name": "Python 3",
   "language": "python",
   "name": "python3"
  },
  "language_info": {
   "codemirror_mode": {
    "name": "ipython",
    "version": 3
   },
   "file_extension": ".py",
   "mimetype": "text/x-python",
   "name": "python",
   "nbconvert_exporter": "python",
   "pygments_lexer": "ipython3",
   "version": "3.6.8"
  }
 },
 "nbformat": 4,
 "nbformat_minor": 2
}
