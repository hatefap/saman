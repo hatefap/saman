{
 "cells": [
  {
   "cell_type": "code",
   "execution_count": 39,
   "metadata": {},
   "outputs": [],
   "source": [
    "import numpy as np"
   ]
  },
  {
   "cell_type": "code",
   "execution_count": 40,
   "metadata": {},
   "outputs": [],
   "source": [
    "NUMBER_OF_RUNS = 1000"
   ]
  },
  {
   "cell_type": "code",
   "execution_count": 41,
   "metadata": {},
   "outputs": [],
   "source": [
    "def score(arr):\n",
    "    if arr.ndim != 1:\n",
    "        raise ValueError(\"array must be 1D numpy array\")\n",
    "    score = 0\n",
    "    cur = arr[0]\n",
    "    for element in arr[1:]:\n",
    "        if cur == element:\n",
    "            score += 1\n",
    "        cur = element\n",
    "    return score\n",
    "    "
   ]
  },
  {
   "cell_type": "code",
   "execution_count": 42,
   "metadata": {},
   "outputs": [],
   "source": [
    "def calculate_p_by_run(N, M, number_of_runs=NUMBER_OF_RUNS):\n",
    "    if number_of_runs < 1:\n",
    "        raise ValueError(\"Please specify a positive number for number_of_runs\")\n",
    "    suites = np.arange(M)\n",
    "    cards = np.repeat(suites, N//M)\n",
    "    scores = []\n",
    "    for _ in range(number_of_runs):\n",
    "        np.random.shuffle(cards)\n",
    "        my_score = score(cards)\n",
    "        scores.append(my_score)\n",
    "    return np.array(scores)"
   ]
  },
  {
   "cell_type": "code",
   "execution_count": 43,
   "metadata": {},
   "outputs": [],
   "source": [
    "result_52_4 = calculate_p_by_run(52, 4)\n",
    "result_26_2 = calculate_p_by_run(26, 2)"
   ]
  },
  {
   "cell_type": "code",
   "execution_count": 44,
   "metadata": {},
   "outputs": [
    {
     "name": "stdout",
     "output_type": "stream",
     "text": [
      "1.What is the mean of P when N=26 and M=2 ? 11.888 \n",
      "\n",
      "2.What is the Standard Deviation of P for N=26 and M=2 ? 2.4709220950892 \n",
      "\n",
      "3.What is the mean of P when N=52 and M=4 ? 11.99 \n",
      "\n",
      "4.What is the Standard Deviation of P for N=52 and M=4 ? 3.092232203441391 \n",
      "\n"
     ]
    }
   ],
   "source": [
    "print(f'1.What is the mean of P when N=26 and M=2 ? {np.mean(result_26_2)} \\n')\n",
    "print(f'2.What is the Standard Deviation of P for N=26 and M=2 ? {np.std(result_26_2)} \\n')\n",
    "print(f'3.What is the mean of P when N=52 and M=4 ? {np.mean(result_52_4)} \\n')\n",
    "print(f'4.What is the Standard Deviation of P for N=52 and M=4 ? {np.std(result_52_4)} \\n')"
   ]
  },
  {
   "cell_type": "code",
   "execution_count": 45,
   "metadata": {},
   "outputs": [],
   "source": [
    "def condition_prop(arr, desire, condition):\n",
    "    arr_condition = arr[arr > condition]\n",
    "    arr_desire_given_condition = arr_condition[arr_condition > desire]\n",
    "    \n",
    "    return len(arr_desire_given_condition)/len(arr_condition)"
   ]
  },
  {
   "cell_type": "code",
   "execution_count": 46,
   "metadata": {},
   "outputs": [
    {
     "name": "stdout",
     "output_type": "stream",
     "text": [
      "5.What is the conditional probability that P>12 given that it's P>6 when N=26 and M=2 ? 0.41886409736308317 \n",
      "\n",
      "6.What is the conditional probability that P>12 given that it's P>6 when N=52 and M=4 ? 0.4376930998970134 \n",
      "\n"
     ]
    }
   ],
   "source": [
    "print(f\"5.What is the conditional probability that P>12 given that it's P>6 when N=26 and M=2 ? {condition_prop(result_26_2, 12, 6)} \\n\")\n",
    "print(f\"6.What is the conditional probability that P>12 given that it's P>6 when N=52 and M=4 ? {condition_prop(result_52_4, 12, 6)} \\n\")"
   ]
  },
  {
   "cell_type": "code",
   "execution_count": null,
   "metadata": {},
   "outputs": [],
   "source": []
  },
  {
   "cell_type": "code",
   "execution_count": null,
   "metadata": {},
   "outputs": [],
   "source": []
  }
 ],
 "metadata": {
  "kernelspec": {
   "display_name": "Python 3",
   "language": "python",
   "name": "python3"
  },
  "language_info": {
   "codemirror_mode": {
    "name": "ipython",
    "version": 3
   },
   "file_extension": ".py",
   "mimetype": "text/x-python",
   "name": "python",
   "nbconvert_exporter": "python",
   "pygments_lexer": "ipython3",
   "version": "3.6.8"
  }
 },
 "nbformat": 4,
 "nbformat_minor": 2
}
